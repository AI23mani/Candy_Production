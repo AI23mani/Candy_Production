{
 "cells": [
  {
   "cell_type": "code",
   "execution_count": 3,
   "id": "aeb332ba",
   "metadata": {},
   "outputs": [
    {
     "name": "stdout",
     "output_type": "stream",
     "text": [
      "            production     lag_1     lag_2     lag_3\n",
      "date                                                \n",
      "1972-04-01     64.5645   66.0229   71.8200   85.6945\n",
      "1972-05-01     65.0100   64.5645   66.0229   71.8200\n",
      "1972-06-01     67.6467   65.0100   64.5645   66.0229\n",
      "1972-07-01     69.0429   67.6467   65.0100   64.5645\n",
      "1972-08-01     70.8370   69.0429   67.6467   65.0100\n",
      "...                ...       ...       ...       ...\n",
      "2017-04-01    107.4288  105.2245  113.4661  109.4666\n",
      "2017-05-01    101.9209  107.4288  105.2245  113.4661\n",
      "2017-06-01    104.2022  101.9209  107.4288  105.2245\n",
      "2017-07-01    102.5861  104.2022  101.9209  107.4288\n",
      "2017-08-01    114.0613  102.5861  104.2022  101.9209\n",
      "\n",
      "[545 rows x 4 columns]\n"
     ]
    }
   ],
   "source": [
    "import pandas as pd\n",
    "\n",
    "# Step 1: Reading the CSV file\n",
    "dataset = pd.read_csv(\"candy_production.csv\")\n",
    "\n",
    "# Renaming columns\n",
    "dataset.columns = [\"date\", \"production\"]\n",
    "\n",
    "# Converting the date column to datetime\n",
    "dataset['date'] = pd.to_datetime(dataset['date'], format=\"%Y-%m-%d\")\n",
    "\n",
    "# Setting the date column as the index\n",
    "dataset.set_index('date', inplace=True)\n",
    "\n",
    "# \n",
    "\n",
    "# Step 3: Check for and handle missing values\n",
    "dataset = dataset.dropna()  # Drop rows with missing values, or use dataset.fillna() for imputation\n",
    "\n",
    "# Step 5: Add Lag Features\n",
    "# Adding lags of 1, 2, and 3 months as an example\n",
    "dataset['lag_1'] = dataset['production'].shift(1)\n",
    "dataset['lag_2'] = dataset['production'].shift(2)\n",
    "dataset['lag_3'] = dataset['production'].shift(3)\n",
    "\n",
    "# Step 6: Normalization/Standardization (if required)\n",
    "\n",
    "column='production'\n",
    "from sklearn.preprocessing import MinMaxScaler\n",
    "Ms = MinMaxScaler()\n",
    "datase5t= Ms.fit_transform(dataset[[column]])\n",
    "\n",
    "# Drop rows with NaN values created by lagging\n",
    "dataset = dataset.dropna()\n",
    "\n",
    "# Save the cleaned and processed dataframe to a CSV file\n",
    "dataset.to_csv('preprocessed_candy_production_dataset.csv', index=False)\n",
    "\n",
    "# Display the cleaned dataframe\n",
    "print(dataset)"
   ]
  },
  {
   "cell_type": "code",
   "execution_count": 4,
   "id": "228d84d5",
   "metadata": {},
   "outputs": [
    {
     "data": {
      "text/html": [
       "<div>\n",
       "<style scoped>\n",
       "    .dataframe tbody tr th:only-of-type {\n",
       "        vertical-align: middle;\n",
       "    }\n",
       "\n",
       "    .dataframe tbody tr th {\n",
       "        vertical-align: top;\n",
       "    }\n",
       "\n",
       "    .dataframe thead th {\n",
       "        text-align: right;\n",
       "    }\n",
       "</style>\n",
       "<table border=\"1\" class=\"dataframe\">\n",
       "  <thead>\n",
       "    <tr style=\"text-align: right;\">\n",
       "      <th></th>\n",
       "      <th>production</th>\n",
       "      <th>lag_1</th>\n",
       "      <th>lag_2</th>\n",
       "      <th>lag_3</th>\n",
       "    </tr>\n",
       "    <tr>\n",
       "      <th>date</th>\n",
       "      <th></th>\n",
       "      <th></th>\n",
       "      <th></th>\n",
       "      <th></th>\n",
       "    </tr>\n",
       "  </thead>\n",
       "  <tbody>\n",
       "    <tr>\n",
       "      <th>1972-04-01</th>\n",
       "      <td>64.5645</td>\n",
       "      <td>66.0229</td>\n",
       "      <td>71.8200</td>\n",
       "      <td>85.6945</td>\n",
       "    </tr>\n",
       "    <tr>\n",
       "      <th>1972-05-01</th>\n",
       "      <td>65.0100</td>\n",
       "      <td>64.5645</td>\n",
       "      <td>66.0229</td>\n",
       "      <td>71.8200</td>\n",
       "    </tr>\n",
       "    <tr>\n",
       "      <th>1972-06-01</th>\n",
       "      <td>67.6467</td>\n",
       "      <td>65.0100</td>\n",
       "      <td>64.5645</td>\n",
       "      <td>66.0229</td>\n",
       "    </tr>\n",
       "    <tr>\n",
       "      <th>1972-07-01</th>\n",
       "      <td>69.0429</td>\n",
       "      <td>67.6467</td>\n",
       "      <td>65.0100</td>\n",
       "      <td>64.5645</td>\n",
       "    </tr>\n",
       "    <tr>\n",
       "      <th>1972-08-01</th>\n",
       "      <td>70.8370</td>\n",
       "      <td>69.0429</td>\n",
       "      <td>67.6467</td>\n",
       "      <td>65.0100</td>\n",
       "    </tr>\n",
       "    <tr>\n",
       "      <th>...</th>\n",
       "      <td>...</td>\n",
       "      <td>...</td>\n",
       "      <td>...</td>\n",
       "      <td>...</td>\n",
       "    </tr>\n",
       "    <tr>\n",
       "      <th>2017-04-01</th>\n",
       "      <td>107.4288</td>\n",
       "      <td>105.2245</td>\n",
       "      <td>113.4661</td>\n",
       "      <td>109.4666</td>\n",
       "    </tr>\n",
       "    <tr>\n",
       "      <th>2017-05-01</th>\n",
       "      <td>101.9209</td>\n",
       "      <td>107.4288</td>\n",
       "      <td>105.2245</td>\n",
       "      <td>113.4661</td>\n",
       "    </tr>\n",
       "    <tr>\n",
       "      <th>2017-06-01</th>\n",
       "      <td>104.2022</td>\n",
       "      <td>101.9209</td>\n",
       "      <td>107.4288</td>\n",
       "      <td>105.2245</td>\n",
       "    </tr>\n",
       "    <tr>\n",
       "      <th>2017-07-01</th>\n",
       "      <td>102.5861</td>\n",
       "      <td>104.2022</td>\n",
       "      <td>101.9209</td>\n",
       "      <td>107.4288</td>\n",
       "    </tr>\n",
       "    <tr>\n",
       "      <th>2017-08-01</th>\n",
       "      <td>114.0613</td>\n",
       "      <td>102.5861</td>\n",
       "      <td>104.2022</td>\n",
       "      <td>101.9209</td>\n",
       "    </tr>\n",
       "  </tbody>\n",
       "</table>\n",
       "<p>545 rows × 4 columns</p>\n",
       "</div>"
      ],
      "text/plain": [
       "            production     lag_1     lag_2     lag_3\n",
       "date                                                \n",
       "1972-04-01     64.5645   66.0229   71.8200   85.6945\n",
       "1972-05-01     65.0100   64.5645   66.0229   71.8200\n",
       "1972-06-01     67.6467   65.0100   64.5645   66.0229\n",
       "1972-07-01     69.0429   67.6467   65.0100   64.5645\n",
       "1972-08-01     70.8370   69.0429   67.6467   65.0100\n",
       "...                ...       ...       ...       ...\n",
       "2017-04-01    107.4288  105.2245  113.4661  109.4666\n",
       "2017-05-01    101.9209  107.4288  105.2245  113.4661\n",
       "2017-06-01    104.2022  101.9209  107.4288  105.2245\n",
       "2017-07-01    102.5861  104.2022  101.9209  107.4288\n",
       "2017-08-01    114.0613  102.5861  104.2022  101.9209\n",
       "\n",
       "[545 rows x 4 columns]"
      ]
     },
     "execution_count": 4,
     "metadata": {},
     "output_type": "execute_result"
    }
   ],
   "source": [
    "#Start date and end_date\n",
    "from datetime import date, timedelta\n",
    "import pandas as pd\n",
    "start_date = pd.to_datetime(\"1972-01-01\")\n",
    "end_date = pd.to_datetime(\"2017-02-04\") - timedelta(days=1) #Excluding last\n",
    "\n",
    "#List of all dates\n",
    "all_date = pd.date_range(start_date, end_date, freq='d')\n",
    "all_date\n",
    "dataset"
   ]
  },
  {
   "cell_type": "code",
   "execution_count": 10,
   "id": "90dcb402",
   "metadata": {},
   "outputs": [],
   "source": [
    "# Split data into train and test sets\n",
    "train_size = int(len(dataset) * 0.8)\n",
    "train, test = dataset[:train_size], dataset[train_size:]\n"
   ]
  },
  {
   "cell_type": "code",
   "execution_count": 15,
   "id": "68e4ce2c",
   "metadata": {},
   "outputs": [],
   "source": [
    "from sklearn.metrics import mean_absolute_error, mean_squared_error\n",
    "import numpy as np\n",
    "# Define evaluation metrics\n",
    "def evaluate_model(true_values, predictions):\n",
    "    mae = mean_absolute_error(true_values, predictions)\n",
    "    mse = mean_squared_error(true_values, predictions)\n",
    "    rmse = np.sqrt(mse)\n",
    "    return mae, mse, rmse"
   ]
  },
  {
   "cell_type": "markdown",
   "id": "f1c42293",
   "metadata": {},
   "source": [
    "# For time series analysis on your candy production dataset, you can use a variety of algorithms to model and forecast the data. Here are seven commonly used time series forecasting algorithms, along with code snippets to implement them in Python:\n",
    "\n",
    "1. *Autoregressive (AR) Model*\n",
    "2. *Moving Average (MA) Model*\n",
    "3. *Autoregressive Moving Average (ARMA) Model*\n",
    "4. *Autoregressive Integrated Moving Average (ARIMA) Model*\n",
    "5. *Seasonal ARIMA (SARIMA) Model*\n",
    "6. *Vector Autoregression (VAR) Model*\n",
    "7. *Prophet Model*\n"
   ]
  },
  {
   "cell_type": "markdown",
   "id": "4555f2e5",
   "metadata": {},
   "source": [
    "# Autoregressive (AR) Model"
   ]
  },
  {
   "cell_type": "code",
   "execution_count": 16,
   "id": "3830b627",
   "metadata": {},
   "outputs": [
    {
     "name": "stderr",
     "output_type": "stream",
     "text": [
      "C:\\Users\\MANIKA\\Anaconda3\\envs\\aiml\\lib\\site-packages\\statsmodels\\tsa\\base\\tsa_model.py:471: ValueWarning: No frequency information was provided, so inferred frequency MS will be used.\n",
      "  self._init_dates(dates, freq)\n"
     ]
    }
   ],
   "source": [
    "\n",
    "### 1. Autoregressive (AR) Model\n",
    "from statsmodels.tsa.ar_model import AutoReg\n",
    "# Fit and evaluate AR model\n",
    "ar_model = AutoReg(train['production'], lags=3).fit()\n",
    "ar_predictions = ar_model.predict(start=len(train), end=len(train) + len(test) - 1, dynamic=False)\n",
    "ar_mae, ar_mse, ar_rmse = evaluate_model(test['production'], ar_predictions)\n"
   ]
  },
  {
   "cell_type": "markdown",
   "id": "f972986c",
   "metadata": {},
   "source": [
    "# Moving Average (MA) Model"
   ]
  },
  {
   "cell_type": "code",
   "execution_count": 17,
   "id": "d25a86c6",
   "metadata": {},
   "outputs": [
    {
     "name": "stderr",
     "output_type": "stream",
     "text": [
      "C:\\Users\\MANIKA\\Anaconda3\\envs\\aiml\\lib\\site-packages\\statsmodels\\tsa\\base\\tsa_model.py:471: ValueWarning: No frequency information was provided, so inferred frequency MS will be used.\n",
      "  self._init_dates(dates, freq)\n",
      "C:\\Users\\MANIKA\\Anaconda3\\envs\\aiml\\lib\\site-packages\\statsmodels\\tsa\\base\\tsa_model.py:471: ValueWarning: No frequency information was provided, so inferred frequency MS will be used.\n",
      "  self._init_dates(dates, freq)\n",
      "C:\\Users\\MANIKA\\Anaconda3\\envs\\aiml\\lib\\site-packages\\statsmodels\\tsa\\base\\tsa_model.py:471: ValueWarning: No frequency information was provided, so inferred frequency MS will be used.\n",
      "  self._init_dates(dates, freq)\n"
     ]
    }
   ],
   "source": [
    "from statsmodels.tsa.arima.model import ARIMA\n",
    "# Fit and evaluate MA model\n",
    "ma_model = ARIMA(train['production'], order=(0, 0, 3)).fit()\n",
    "ma_predictions = ma_model.predict(start=len(train), end=len(train) + len(test) - 1, dynamic=False)\n",
    "ma_mae, ma_mse, ma_rmse = evaluate_model(test['production'], ma_predictions)\n"
   ]
  },
  {
   "cell_type": "markdown",
   "id": "edc773d3",
   "metadata": {},
   "source": [
    "# Autoregressive Moving Average (ARMA) Model"
   ]
  },
  {
   "cell_type": "code",
   "execution_count": 18,
   "id": "5327dd96",
   "metadata": {},
   "outputs": [
    {
     "name": "stderr",
     "output_type": "stream",
     "text": [
      "C:\\Users\\MANIKA\\Anaconda3\\envs\\aiml\\lib\\site-packages\\statsmodels\\tsa\\base\\tsa_model.py:471: ValueWarning: No frequency information was provided, so inferred frequency MS will be used.\n",
      "  self._init_dates(dates, freq)\n",
      "C:\\Users\\MANIKA\\Anaconda3\\envs\\aiml\\lib\\site-packages\\statsmodels\\tsa\\base\\tsa_model.py:471: ValueWarning: No frequency information was provided, so inferred frequency MS will be used.\n",
      "  self._init_dates(dates, freq)\n",
      "C:\\Users\\MANIKA\\Anaconda3\\envs\\aiml\\lib\\site-packages\\statsmodels\\tsa\\base\\tsa_model.py:471: ValueWarning: No frequency information was provided, so inferred frequency MS will be used.\n",
      "  self._init_dates(dates, freq)\n",
      "C:\\Users\\MANIKA\\Anaconda3\\envs\\aiml\\lib\\site-packages\\statsmodels\\tsa\\statespace\\sarimax.py:966: UserWarning: Non-stationary starting autoregressive parameters found. Using zeros as starting parameters.\n",
      "  warn('Non-stationary starting autoregressive parameters'\n",
      "C:\\Users\\MANIKA\\Anaconda3\\envs\\aiml\\lib\\site-packages\\statsmodels\\tsa\\statespace\\sarimax.py:978: UserWarning: Non-invertible starting MA parameters found. Using zeros as starting parameters.\n",
      "  warn('Non-invertible starting MA parameters found.'\n",
      "C:\\Users\\MANIKA\\Anaconda3\\envs\\aiml\\lib\\site-packages\\statsmodels\\base\\model.py:606: ConvergenceWarning: Maximum Likelihood optimization failed to converge. Check mle_retvals\n",
      "  ConvergenceWarning)\n"
     ]
    }
   ],
   "source": [
    "from statsmodels.tsa.arima.model import ARIMA\n",
    "# Fit and evaluate ARMA model\n",
    "arma_model = ARIMA(train['production'], order=(3, 0, 3)).fit()\n",
    "arma_predictions = arma_model.predict(start=len(train), end=len(train) + len(test) - 1, dynamic=False)\n",
    "arma_mae, arma_mse, arma_rmse = evaluate_model(test['production'], arma_predictions)\n"
   ]
  },
  {
   "cell_type": "markdown",
   "id": "bead33cb",
   "metadata": {},
   "source": [
    "# Autoregressive Integrated Moving Average (ARIMA) Model"
   ]
  },
  {
   "cell_type": "code",
   "execution_count": 19,
   "id": "c2d1734d",
   "metadata": {},
   "outputs": [
    {
     "name": "stderr",
     "output_type": "stream",
     "text": [
      "C:\\Users\\MANIKA\\Anaconda3\\envs\\aiml\\lib\\site-packages\\statsmodels\\tsa\\base\\tsa_model.py:471: ValueWarning: No frequency information was provided, so inferred frequency MS will be used.\n",
      "  self._init_dates(dates, freq)\n",
      "C:\\Users\\MANIKA\\Anaconda3\\envs\\aiml\\lib\\site-packages\\statsmodels\\tsa\\base\\tsa_model.py:471: ValueWarning: No frequency information was provided, so inferred frequency MS will be used.\n",
      "  self._init_dates(dates, freq)\n",
      "C:\\Users\\MANIKA\\Anaconda3\\envs\\aiml\\lib\\site-packages\\statsmodels\\tsa\\base\\tsa_model.py:471: ValueWarning: No frequency information was provided, so inferred frequency MS will be used.\n",
      "  self._init_dates(dates, freq)\n",
      "C:\\Users\\MANIKA\\Anaconda3\\envs\\aiml\\lib\\site-packages\\statsmodels\\tsa\\statespace\\sarimax.py:966: UserWarning: Non-stationary starting autoregressive parameters found. Using zeros as starting parameters.\n",
      "  warn('Non-stationary starting autoregressive parameters'\n",
      "C:\\Users\\MANIKA\\Anaconda3\\envs\\aiml\\lib\\site-packages\\statsmodels\\tsa\\statespace\\sarimax.py:978: UserWarning: Non-invertible starting MA parameters found. Using zeros as starting parameters.\n",
      "  warn('Non-invertible starting MA parameters found.'\n",
      "C:\\Users\\MANIKA\\Anaconda3\\envs\\aiml\\lib\\site-packages\\statsmodels\\base\\model.py:606: ConvergenceWarning: Maximum Likelihood optimization failed to converge. Check mle_retvals\n",
      "  ConvergenceWarning)\n"
     ]
    }
   ],
   "source": [
    "### 4. Autoregressive Integrated Moving Average (ARIMA) Model\n",
    "\n",
    "from statsmodels.tsa.arima.model import ARIMA\n",
    "# Fit and evaluate ARIMA model\n",
    "arima_model = ARIMA(train['production'], order=(3, 1, 3)).fit()\n",
    "arima_predictions = arima_model.predict(start=len(train), end=len(train) + len(test) - 1, dynamic=False)\n",
    "arima_mae, arima_mse, arima_rmse = evaluate_model(test['production'], arima_predictions)\n",
    "\n"
   ]
  },
  {
   "cell_type": "markdown",
   "id": "405d19b4",
   "metadata": {},
   "source": [
    "# Seasonal ARIMA (SARIMA) Model"
   ]
  },
  {
   "cell_type": "code",
   "execution_count": 20,
   "id": "13c4c7ae",
   "metadata": {},
   "outputs": [
    {
     "name": "stderr",
     "output_type": "stream",
     "text": [
      "C:\\Users\\MANIKA\\Anaconda3\\envs\\aiml\\lib\\site-packages\\statsmodels\\tsa\\base\\tsa_model.py:471: ValueWarning: No frequency information was provided, so inferred frequency MS will be used.\n",
      "  self._init_dates(dates, freq)\n",
      "C:\\Users\\MANIKA\\Anaconda3\\envs\\aiml\\lib\\site-packages\\statsmodels\\tsa\\base\\tsa_model.py:471: ValueWarning: No frequency information was provided, so inferred frequency MS will be used.\n",
      "  self._init_dates(dates, freq)\n"
     ]
    }
   ],
   "source": [
    "from statsmodels.tsa.statespace.sarimax import SARIMAX\n",
    "\n",
    "# Fit and evaluate SARIMA model\n",
    "sarima_model = SARIMAX(train['production'], order=(1, 1, 1), seasonal_order=(1, 1, 1, 12)).fit()\n",
    "sarima_predictions = sarima_model.predict(start=len(train), end=len(train) + len(test) - 1, dynamic=False)\n",
    "sarima_mae, sarima_mse, sarima_rmse = evaluate_model(test['production'], sarima_predictions)\n",
    "\n",
    "\n",
    "\n"
   ]
  },
  {
   "cell_type": "markdown",
   "id": "d654e0a7",
   "metadata": {},
   "source": [
    "# Vector Autoregression (VAR) Mode"
   ]
  },
  {
   "cell_type": "code",
   "execution_count": 24,
   "id": "306a2a4d",
   "metadata": {},
   "outputs": [],
   "source": [
    "from statsmodels.tsa.api import VAR\n",
    "# Prepare data for VAR model\n",
    "# Forecasting with VAR model\n",
    "lag_order = var_results.k_ar\n",
    "var_forecast = var_results.forecast(var_data.values[-lag_order:], steps=len(test))\n",
    "var_predictions = var_forecast[:, 0]  # Extract the first column which corresponds to 'production'\n",
    "var_mae, var_mse, var_rmse = evaluate_model(test['production'].iloc[:len(var_predictions)], var_predictions)\n",
    "\n"
   ]
  },
  {
   "cell_type": "code",
   "execution_count": 25,
   "id": "813e0008",
   "metadata": {},
   "outputs": [
    {
     "name": "stdout",
     "output_type": "stream",
     "text": [
      "AR Predictions: 2008-08-01     87.012490\n",
      "2008-09-01     89.357659\n",
      "2008-10-01     92.643411\n",
      "2008-11-01     95.653673\n",
      "2008-12-01     98.193081\n",
      "                 ...    \n",
      "2017-04-01    100.349254\n",
      "2017-05-01    100.349254\n",
      "2017-06-01    100.349254\n",
      "2017-07-01    100.349254\n",
      "2017-08-01    100.349254\n",
      "Freq: MS, Length: 109, dtype: float64\n",
      "MA Predictions: 2008-08-01    92.072605\n",
      "2008-09-01    95.879492\n",
      "2008-10-01    97.888512\n",
      "2008-11-01    99.968588\n",
      "2008-12-01    99.968588\n",
      "                ...    \n",
      "2017-04-01    99.968588\n",
      "2017-05-01    99.968588\n",
      "2017-06-01    99.968588\n",
      "2017-07-01    99.968588\n",
      "2017-08-01    99.968588\n",
      "Freq: MS, Name: predicted_mean, Length: 109, dtype: float64\n",
      "ARMA Predictions: 2008-08-01     89.314124\n",
      "2008-09-01     89.003308\n",
      "2008-10-01     94.561850\n",
      "2008-11-01     94.078753\n",
      "2008-12-01     98.588155\n",
      "                 ...    \n",
      "2017-04-01    100.962122\n",
      "2017-05-01     98.166554\n",
      "2017-06-01    100.962024\n",
      "2017-07-01     98.166651\n",
      "2017-08-01    100.961927\n",
      "Freq: MS, Name: predicted_mean, Length: 109, dtype: float64\n",
      "ARIMA Predictions: 2008-08-01     93.015641\n",
      "2008-09-01     96.680522\n",
      "2008-10-01    104.983374\n",
      "2008-11-01    105.887908\n",
      "2008-12-01    109.129925\n",
      "                 ...    \n",
      "2017-04-01     97.155924\n",
      "2017-05-01     94.236645\n",
      "2017-06-01     96.834704\n",
      "2017-07-01     94.491840\n",
      "2017-08-01     97.572279\n",
      "Freq: MS, Name: predicted_mean, Length: 109, dtype: float64\n",
      "SARIMA Predictions: 2008-08-01     94.347385\n",
      "2008-09-01    101.357143\n",
      "2008-10-01    110.576602\n",
      "2008-11-01    112.813012\n",
      "2008-12-01    113.854685\n",
      "                 ...    \n",
      "2017-04-01     55.060119\n",
      "2017-05-01     54.156721\n",
      "2017-06-01     54.278697\n",
      "2017-07-01     52.067823\n",
      "2017-08-01     60.645398\n",
      "Freq: MS, Name: predicted_mean, Length: 109, dtype: float64\n",
      "VAR Forecast: [[ 87.30049522  85.1186      89.0084      88.9254    ]\n",
      " [ 89.43578489  87.30049522  85.1186      89.0084    ]\n",
      " [ 93.12385338  89.43578489  87.30049522  85.1186    ]\n",
      " [ 95.11635061  93.12385338  89.43578489  87.30049522]\n",
      " [ 97.08052241  95.11635061  93.12385338  89.43578489]\n",
      " [ 97.44752835  97.08052241  95.11635061  93.12385338]\n",
      " [ 97.68548775  97.44752835  97.08052241  95.11635061]\n",
      " [ 97.38062377  97.68548775  97.44752835  97.08052241]\n",
      " [ 97.46743324  97.38062377  97.68548775  97.44752835]\n",
      " [ 97.57965891  97.46743324  97.38062377  97.68548775]\n",
      " [ 98.05123878  97.57965891  97.46743324  97.38062377]\n",
      " [ 98.49478173  98.05123878  97.57965891  97.46743324]\n",
      " [ 98.99378202  98.49478173  98.05123878  97.57965891]\n",
      " [ 99.31532949  98.99378202  98.49478173  98.05123878]\n",
      " [ 99.557334    99.31532949  98.99378202  98.49478173]\n",
      " [ 99.65865298  99.557334    99.31532949  98.99378202]\n",
      " [ 99.73254244  99.65865298  99.557334    99.31532949]\n",
      " [ 99.77259562  99.73254244  99.65865298  99.557334  ]\n",
      " [ 99.84210278  99.77259562  99.73254244  99.65865298]\n",
      " [ 99.91858208  99.84210278  99.77259562  99.73254244]\n",
      " [100.01504891  99.91858208  99.84210278  99.77259562]\n",
      " [100.1021066  100.01504891  99.91858208  99.84210278]\n",
      " [100.18079957 100.1021066  100.01504891  99.91858208]\n",
      " [100.23714891 100.18079957 100.1021066  100.01504891]\n",
      " [100.27922827 100.23714891 100.18079957 100.1021066 ]\n",
      " [100.30689383 100.27922827 100.23714891 100.18079957]\n",
      " [100.32983999 100.30689383 100.27922827 100.23714891]\n",
      " [100.34955643 100.32983999 100.30689383 100.27922827]\n",
      " [100.37033257 100.34955643 100.32983999 100.30689383]\n",
      " [100.39055089 100.37033257 100.34955643 100.32983999]\n",
      " [100.41035454 100.39055089 100.37033257 100.34955643]\n",
      " [100.42754332 100.41035454 100.39055089 100.37033257]\n",
      " [100.44206384 100.42754332 100.41035454 100.39055089]\n",
      " [100.45333686 100.44206384 100.42754332 100.41035454]\n",
      " [100.46227875 100.45333686 100.44206384 100.42754332]\n",
      " [100.46934699 100.46227875 100.45333686 100.44206384]\n",
      " [100.47546633 100.46934699 100.46227875 100.45333686]\n",
      " [100.48092258 100.47546633 100.46934699 100.46227875]\n",
      " [100.48602946 100.48092258 100.47546633 100.46934699]\n",
      " [100.49067846 100.48602946 100.48092258 100.47546633]\n",
      " [100.49484993 100.49067846 100.48602946 100.48092258]\n",
      " [100.49841326 100.49484993 100.49067846 100.48602946]\n",
      " [100.50140217 100.49841326 100.49484993 100.49067846]\n",
      " [100.50384854 100.50140217 100.49841326 100.49484993]\n",
      " [100.50588125 100.50384854 100.50140217 100.49841326]\n",
      " [100.5075936  100.50588125 100.50384854 100.50140217]\n",
      " [100.50908754 100.5075936  100.50588125 100.50384854]\n",
      " [100.5104079  100.50908754 100.5075936  100.50588125]\n",
      " [100.51158692 100.5104079  100.50908754 100.5075936 ]\n",
      " [100.51262541 100.51158692 100.5104079  100.50908754]\n",
      " [100.51352897 100.51262541 100.51158692 100.5104079 ]\n",
      " [100.51429948 100.51352897 100.51262541 100.51158692]\n",
      " [100.51495148 100.51429948 100.51352897 100.51262541]\n",
      " [100.51550071 100.51495148 100.51429948 100.51352897]\n",
      " [100.51596783 100.51550071 100.51495148 100.51429948]\n",
      " [100.51636907 100.51596783 100.51550071 100.51495148]\n",
      " [100.5167183  100.51636907 100.51596783 100.51550071]\n",
      " [100.51702356 100.5167183  100.51636907 100.51596783]\n",
      " [100.51729053 100.51702356 100.5167183  100.51636907]\n",
      " [100.51752228 100.51729053 100.51702356 100.5167183 ]\n",
      " [100.51772205 100.51752228 100.51729053 100.51702356]\n",
      " [100.51789292 100.51772205 100.51752228 100.51729053]\n",
      " [100.51803875 100.51789292 100.51772205 100.51752228]\n",
      " [100.5181633  100.51803875 100.51789292 100.51772205]\n",
      " [100.51827024 100.5181633  100.51803875 100.51789292]\n",
      " [100.51836254 100.51827024 100.5181633  100.51803875]\n",
      " [100.51844257 100.51836254 100.51827024 100.5181633 ]\n",
      " [100.51851202 100.51844257 100.51836254 100.51827024]\n",
      " [100.51857221 100.51851202 100.51844257 100.51836254]\n",
      " [100.51862418 100.51857221 100.51851202 100.51844257]\n",
      " [100.51866888 100.51862418 100.51857221 100.51851202]\n",
      " [100.51870725 100.51866888 100.51862418 100.51857221]\n",
      " [100.51874016 100.51870725 100.51866888 100.51862418]\n",
      " [100.51876844 100.51874016 100.51870725 100.51866888]\n",
      " [100.5187928  100.51876844 100.51874016 100.51870725]\n",
      " [100.51881383 100.5187928  100.51876844 100.51874016]\n",
      " [100.51883202 100.51881383 100.5187928  100.51876844]\n",
      " [100.51884774 100.51883202 100.51881383 100.5187928 ]\n",
      " [100.51886132 100.51884774 100.51883202 100.51881383]\n",
      " [100.51887301 100.51886132 100.51884774 100.51883202]\n",
      " [100.51888308 100.51887301 100.51886132 100.51884774]\n",
      " [100.51889174 100.51888308 100.51887301 100.51886132]\n",
      " [100.51889919 100.51889174 100.51888308 100.51887301]\n",
      " [100.5189056  100.51889919 100.51889174 100.51888308]\n",
      " [100.51891113 100.5189056  100.51889919 100.51889174]\n",
      " [100.51891591 100.51891113 100.5189056  100.51889919]\n",
      " [100.51892003 100.51891591 100.51891113 100.5189056 ]\n",
      " [100.51892358 100.51892003 100.51891591 100.51891113]\n",
      " [100.51892664 100.51892358 100.51892003 100.51891591]\n",
      " [100.51892929 100.51892664 100.51892358 100.51892003]\n",
      " [100.51893156 100.51892929 100.51892664 100.51892358]\n",
      " [100.51893352 100.51893156 100.51892929 100.51892664]\n",
      " [100.5189352  100.51893352 100.51893156 100.51892929]\n",
      " [100.51893666 100.5189352  100.51893352 100.51893156]\n",
      " [100.51893791 100.51893666 100.5189352  100.51893352]\n",
      " [100.51893899 100.51893791 100.51893666 100.5189352 ]\n",
      " [100.51893992 100.51893899 100.51893791 100.51893666]\n",
      " [100.51894073 100.51893992 100.51893899 100.51893791]\n",
      " [100.51894142 100.51894073 100.51893992 100.51893899]\n",
      " [100.51894202 100.51894142 100.51894073 100.51893992]\n",
      " [100.51894253 100.51894202 100.51894142 100.51894073]\n",
      " [100.51894297 100.51894253 100.51894202 100.51894142]\n",
      " [100.51894335 100.51894297 100.51894253 100.51894202]\n",
      " [100.51894368 100.51894335 100.51894297 100.51894253]\n",
      " [100.51894397 100.51894368 100.51894335 100.51894297]\n",
      " [100.51894421 100.51894397 100.51894368 100.51894335]\n",
      " [100.51894442 100.51894421 100.51894397 100.51894368]\n",
      " [100.5189446  100.51894442 100.51894421 100.51894397]\n",
      " [100.51894476 100.5189446  100.51894442 100.51894421]]\n"
     ]
    }
   ],
   "source": [
    "# Print the predictions from each model\n",
    "print(\"AR Predictions:\", ar_predictions)\n",
    "print(\"MA Predictions:\", ma_predictions)\n",
    "print(\"ARMA Predictions:\", arma_predictions)\n",
    "print(\"ARIMA Predictions:\", arima_predictions)\n",
    "print(\"SARIMA Predictions:\", sarima_predictions)\n",
    "print(\"VAR Forecast:\", var_forecast)"
   ]
  },
  {
   "cell_type": "code",
   "execution_count": 26,
   "id": "81a576b2",
   "metadata": {},
   "outputs": [],
   "source": [
    "# Compile results into a DataFrame\n",
    "results = pd.DataFrame({\n",
    "    'Model': ['AR', 'MA', 'ARMA', 'ARIMA', 'SARIMA', 'VAR'],\n",
    "    'MAE': [ar_mae, ma_mae, arma_mae, arima_mae, sarima_mae, var_mae],\n",
    "    'MSE': [ar_mse, ma_mse, arma_mse, arima_mse, sarima_mse, var_mse],\n",
    "    'RMSE': [ar_rmse, ma_rmse, arma_rmse, arima_rmse, sarima_rmse, var_rmse]\n",
    "})"
   ]
  },
  {
   "cell_type": "code",
   "execution_count": 27,
   "id": "0aaf0bb0",
   "metadata": {},
   "outputs": [
    {
     "name": "stdout",
     "output_type": "stream",
     "text": [
      "    Model        MAE         MSE       RMSE\n",
      "0      AR  10.398133  161.948075  12.725882\n",
      "1      MA  10.278656  157.456085  12.548151\n",
      "2    ARMA  10.529699  163.107702  12.771363\n",
      "3   ARIMA   9.690958  145.342641  12.055814\n",
      "4  SARIMA  23.789914  765.223565  27.662675\n",
      "5     VAR  10.133529  153.608602  12.393894\n"
     ]
    }
   ],
   "source": [
    "# Display the results\n",
    "print(results)"
   ]
  },
  {
   "cell_type": "code",
   "execution_count": 31,
   "id": "9266c718",
   "metadata": {},
   "outputs": [
    {
     "name": "stdout",
     "output_type": "stream",
     "text": [
      "Best Model by MAE:\n",
      "Model        ARIMA\n",
      "MAE        9.69096\n",
      "MSE        145.343\n",
      "RMSE       12.0558\n",
      "Average    55.6965\n",
      "Name: 3, dtype: object\n",
      "\n",
      "Best Model by MSE:\n",
      "Model        ARIMA\n",
      "MAE        9.69096\n",
      "MSE        145.343\n",
      "RMSE       12.0558\n",
      "Average    55.6965\n",
      "Name: 3, dtype: object\n",
      "\n",
      "Best Model by RMSE:\n",
      "Model        ARIMA\n",
      "MAE        9.69096\n",
      "MSE        145.343\n",
      "RMSE       12.0558\n",
      "Average    55.6965\n",
      "Name: 3, dtype: object\n",
      "\n",
      "Best Model by Average of MAE, MSE, RMSE:\n",
      "Model        ARIMA\n",
      "MAE        9.69096\n",
      "MSE        145.343\n",
      "RMSE       12.0558\n",
      "Average    55.6965\n",
      "Name: 3, dtype: object\n"
     ]
    }
   ],
   "source": [
    "\n",
    "# Find the model with the lowest MAE\n",
    "best_model_mae = results.loc[results['MAE'].idxmin()]\n",
    "print(\"Best Model by MAE:\")\n",
    "print(best_model_mae)\n",
    "\n",
    "# Find the model with the lowest MSE\n",
    "best_model_mse = results.loc[results['MSE'].idxmin()]\n",
    "print(\"\\nBest Model by MSE:\")\n",
    "print(best_model_mse)\n",
    "\n",
    "# Find the model with the lowest RMSE\n",
    "best_model_rmse = results.loc[results['RMSE'].idxmin()]\n",
    "print(\"\\nBest Model by RMSE:\")\n",
    "print(best_model_rmse)\n",
    "\n",
    "# Overall best model (lowest average of MAE, MSE, RMSE)\n",
    "results['Average'] = (results['MAE'] + results['MSE'] + results['RMSE']) / 3\n",
    "best_model_avg = results.loc[results['Average'].idxmin()]\n",
    "print(\"\\nBest Model by Average of MAE, MSE, RMSE:\")\n",
    "print(best_model_avg)"
   ]
  },
  {
   "cell_type": "markdown",
   "id": "f2fbfad9",
   "metadata": {},
   "source": [
    "# Since ARIMA is identified as the best model based on your evaluation\n",
    "\n",
    "### Forecasting with ARIMA Model\n",
    "\n",
    "1. *Prepare Data*:\n",
    "   - Ensure your data is in the correct format and split into train and test sets.\n",
    "\n",
    "2. *Fit ARIMA Model*:\n",
    "   - Fit the ARIMA model on the training data.\n",
    "\n",
    "3. *Make Predictions*:\n",
    "   - Use the fitted ARIMA model to forecast future values.\n",
    "\n"
   ]
  },
  {
   "cell_type": "code",
   "execution_count": 36,
   "id": "18428148",
   "metadata": {},
   "outputs": [
    {
     "name": "stderr",
     "output_type": "stream",
     "text": [
      "C:\\Users\\MANIKA\\Anaconda3\\envs\\aiml\\lib\\site-packages\\statsmodels\\tsa\\base\\tsa_model.py:471: ValueWarning: No frequency information was provided, so inferred frequency MS will be used.\n",
      "  self._init_dates(dates, freq)\n",
      "C:\\Users\\MANIKA\\Anaconda3\\envs\\aiml\\lib\\site-packages\\statsmodels\\tsa\\base\\tsa_model.py:471: ValueWarning: No frequency information was provided, so inferred frequency MS will be used.\n",
      "  self._init_dates(dates, freq)\n",
      "C:\\Users\\MANIKA\\Anaconda3\\envs\\aiml\\lib\\site-packages\\statsmodels\\tsa\\base\\tsa_model.py:471: ValueWarning: No frequency information was provided, so inferred frequency MS will be used.\n",
      "  self._init_dates(dates, freq)\n",
      "C:\\Users\\MANIKA\\Anaconda3\\envs\\aiml\\lib\\site-packages\\statsmodels\\base\\model.py:606: ConvergenceWarning: Maximum Likelihood optimization failed to converge. Check mle_retvals\n",
      "  ConvergenceWarning)\n"
     ]
    },
    {
     "data": {
      "image/png": "[encoded data removed]",
      "text/plain": [
       "<Figure size 1200x600 with 1 Axes>"
      ]
     },
     "metadata": {},
     "output_type": "display_data"
    },
    {
     "name": "stdout",
     "output_type": "stream",
     "text": [
      "                 Date    Forecast\n",
      "2017-09-01 2017-09-30  115.006778\n",
      "2017-10-01 2017-10-31  119.616740\n",
      "2017-11-01 2017-11-30  117.731649\n",
      "2017-12-01 2017-12-31  118.919299\n",
      "2018-01-01 2018-01-31  113.948667\n",
      "2018-02-01 2018-02-28  113.182283\n"
     ]
    }
   ],
   "source": [
    "from statsmodels.tsa.arima.model import ARIMA\n",
    "import matplotlib.pyplot as plt\n",
    "\n",
    "# Fit ARIMA model\n",
    "arima_model = ARIMA(dataset['production'], order=(3, 1, 3)).fit()\n",
    "\n",
    "# Forecasting next 6 months\n",
    "forecast_period = 6\n",
    "forecast = arima_model.forecast(steps=forecast_period)\n",
    "\n",
    "# Generate dates for the forecast period\n",
    "last_date = dataset.index.max()  # Use index instead of 'date'\n",
    "forecast_index = pd.date_range(start=dataset.index[-1], periods=forecast_period + 1, freq='M')[1:]\n",
    "\n",
    "# Plotting the forecast\n",
    "plt.figure(figsize=(12, 6))\n",
    "plt.plot(dataset.index, dataset['production'], label='Actual')  # Use index instead of 'date'\n",
    "plt.plot(forecast_index, forecast, label='ARIMA Forecast')\n",
    "plt.title('ARIMA Model Forecast for Next 3 Months')\n",
    "plt.xlabel('Date')\n",
    "plt.ylabel('Production')\n",
    "plt.legend()\n",
    "plt.show()\n",
    "\n",
    "# Display the forecasted values\n",
    "forecast_df = pd.DataFrame({\n",
    "    'Date': forecast_index,\n",
    "    'Forecast': forecast\n",
    "})\n",
    "print(forecast_df)\n",
    "\n"
   ]
  },
  {
   "cell_type": "code",
   "execution_count": null,
   "id": "06cf5926",
   "metadata": {},
   "outputs": [],
   "source": []
  }
 ],
 "metadata": {
  "kernelspec": {
   "display_name": "Python 3 (ipykernel)",
   "language": "python",
   "name": "python3"
  },
  "language_info": {
   "codemirror_mode": {
    "name": "ipython",
    "version": 3
   },
   "file_extension": ".py",
   "mimetype": "text/x-python",
   "name": "python",
   "nbconvert_exporter": "python",
   "pygments_lexer": "ipython3",
   "version": "3.7.6"
  }
 },
 "nbformat": 4,
 "nbformat_minor": 5
}
