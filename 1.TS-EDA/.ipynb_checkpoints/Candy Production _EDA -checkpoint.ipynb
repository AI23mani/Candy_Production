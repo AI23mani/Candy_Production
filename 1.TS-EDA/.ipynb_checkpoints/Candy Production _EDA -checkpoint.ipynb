{
 "cells": [
  {
   "cell_type": "code",
   "execution_count": 5,
   "id": "1cc1d325",
   "metadata": {},
   "outputs": [
    {
     "name": "stdout",
     "output_type": "stream",
     "text": [
      "            production     lag_1     lag_2     lag_3\n",
      "date                                                \n",
      "1972-04-01     64.5645   66.0229   71.8200   85.6945\n",
      "1972-05-01     65.0100   64.5645   66.0229   71.8200\n",
      "1972-06-01     67.6467   65.0100   64.5645   66.0229\n",
      "1972-07-01     69.0429   67.6467   65.0100   64.5645\n",
      "1972-08-01     70.8370   69.0429   67.6467   65.0100\n",
      "...                ...       ...       ...       ...\n",
      "2017-04-01    107.4288  105.2245  113.4661  109.4666\n",
      "2017-05-01    101.9209  107.4288  105.2245  113.4661\n",
      "2017-06-01    104.2022  101.9209  107.4288  105.2245\n",
      "2017-07-01    102.5861  104.2022  101.9209  107.4288\n",
      "2017-08-01    114.0613  102.5861  104.2022  101.9209\n",
      "\n",
      "[545 rows x 4 columns]\n"
     ]
    }
   ],
   "source": [
    "import pandas as pd\n",
    "\n",
    "# Step 1: Reading the CSV file\n",
    "dataset = pd.read_csv(\"candy_production.csv\")\n",
    "\n",
    "# Renaming columns\n",
    "dataset.columns = [\"date\", \"production\"]\n",
    "\n",
    "# Converting the date column to datetime\n",
    "dataset['date'] = pd.to_datetime(dataset['date'], format=\"%Y-%m-%d\")\n",
    "\n",
    "# Setting the date column as the index\n",
    "dataset.set_index('date', inplace=True)\n",
    "\n",
    "# \n",
    "\n",
    "# Step 3: Check for and handle missing values\n",
    "dataset = dataset.dropna()  # Drop rows with missing values, or use dataset.fillna() for imputation\n",
    "\n",
    "# Step 5: Add Lag Features\n",
    "# Adding lags of 1, 2, and 3 months as an example\n",
    "dataset['lag_1'] = dataset['production'].shift(1)\n",
    "dataset['lag_2'] = dataset['production'].shift(2)\n",
    "dataset['lag_3'] = dataset['production'].shift(3)\n",
    "\n",
    "# Step 6: Normalization/Standardization (if required)\n",
    "\n",
    "column='production'\n",
    "from sklearn.preprocessing import MinMaxScaler\n",
    "Ms = MinMaxScaler()\n",
    "datase5t= Ms.fit_transform(dataset[[column]])\n",
    "\n",
    "# Drop rows with NaN values created by lagging\n",
    "dataset = dataset.dropna()\n",
    "\n",
    "# Save the cleaned and processed dataframe to a CSV file\n",
    "dataset.to_csv('preprocessed_candy_production_dataset.csv', index=False)\n",
    "\n",
    "# Display the cleaned dataframe\n",
    "print(dataset)"
   ]
  },
  {
   "cell_type": "code",
   "execution_count": 6,
   "id": "990eb0fc",
   "metadata": {},
   "outputs": [
    {
     "data": {
      "text/html": [
       "<div>\n",
       "<style scoped>\n",
       "    .dataframe tbody tr th:only-of-type {\n",
       "        vertical-align: middle;\n",
       "    }\n",
       "\n",
       "    .dataframe tbody tr th {\n",
       "        vertical-align: top;\n",
       "    }\n",
       "\n",
       "    .dataframe thead th {\n",
       "        text-align: right;\n",
       "    }\n",
       "</style>\n",
       "<table border=\"1\" class=\"dataframe\">\n",
       "  <thead>\n",
       "    <tr style=\"text-align: right;\">\n",
       "      <th></th>\n",
       "      <th>production</th>\n",
       "      <th>lag_1</th>\n",
       "      <th>lag_2</th>\n",
       "      <th>lag_3</th>\n",
       "    </tr>\n",
       "    <tr>\n",
       "      <th>date</th>\n",
       "      <th></th>\n",
       "      <th></th>\n",
       "      <th></th>\n",
       "      <th></th>\n",
       "    </tr>\n",
       "  </thead>\n",
       "  <tbody>\n",
       "    <tr>\n",
       "      <th>1972-04-01</th>\n",
       "      <td>64.5645</td>\n",
       "      <td>66.0229</td>\n",
       "      <td>71.8200</td>\n",
       "      <td>85.6945</td>\n",
       "    </tr>\n",
       "    <tr>\n",
       "      <th>1972-05-01</th>\n",
       "      <td>65.0100</td>\n",
       "      <td>64.5645</td>\n",
       "      <td>66.0229</td>\n",
       "      <td>71.8200</td>\n",
       "    </tr>\n",
       "    <tr>\n",
       "      <th>1972-06-01</th>\n",
       "      <td>67.6467</td>\n",
       "      <td>65.0100</td>\n",
       "      <td>64.5645</td>\n",
       "      <td>66.0229</td>\n",
       "    </tr>\n",
       "    <tr>\n",
       "      <th>1972-07-01</th>\n",
       "      <td>69.0429</td>\n",
       "      <td>67.6467</td>\n",
       "      <td>65.0100</td>\n",
       "      <td>64.5645</td>\n",
       "    </tr>\n",
       "    <tr>\n",
       "      <th>1972-08-01</th>\n",
       "      <td>70.8370</td>\n",
       "      <td>69.0429</td>\n",
       "      <td>67.6467</td>\n",
       "      <td>65.0100</td>\n",
       "    </tr>\n",
       "    <tr>\n",
       "      <th>...</th>\n",
       "      <td>...</td>\n",
       "      <td>...</td>\n",
       "      <td>...</td>\n",
       "      <td>...</td>\n",
       "    </tr>\n",
       "    <tr>\n",
       "      <th>2017-04-01</th>\n",
       "      <td>107.4288</td>\n",
       "      <td>105.2245</td>\n",
       "      <td>113.4661</td>\n",
       "      <td>109.4666</td>\n",
       "    </tr>\n",
       "    <tr>\n",
       "      <th>2017-05-01</th>\n",
       "      <td>101.9209</td>\n",
       "      <td>107.4288</td>\n",
       "      <td>105.2245</td>\n",
       "      <td>113.4661</td>\n",
       "    </tr>\n",
       "    <tr>\n",
       "      <th>2017-06-01</th>\n",
       "      <td>104.2022</td>\n",
       "      <td>101.9209</td>\n",
       "      <td>107.4288</td>\n",
       "      <td>105.2245</td>\n",
       "    </tr>\n",
       "    <tr>\n",
       "      <th>2017-07-01</th>\n",
       "      <td>102.5861</td>\n",
       "      <td>104.2022</td>\n",
       "      <td>101.9209</td>\n",
       "      <td>107.4288</td>\n",
       "    </tr>\n",
       "    <tr>\n",
       "      <th>2017-08-01</th>\n",
       "      <td>114.0613</td>\n",
       "      <td>102.5861</td>\n",
       "      <td>104.2022</td>\n",
       "      <td>101.9209</td>\n",
       "    </tr>\n",
       "  </tbody>\n",
       "</table>\n",
       "<p>545 rows × 4 columns</p>\n",
       "</div>"
      ],
      "text/plain": [
       "            production     lag_1     lag_2     lag_3\n",
       "date                                                \n",
       "1972-04-01     64.5645   66.0229   71.8200   85.6945\n",
       "1972-05-01     65.0100   64.5645   66.0229   71.8200\n",
       "1972-06-01     67.6467   65.0100   64.5645   66.0229\n",
       "1972-07-01     69.0429   67.6467   65.0100   64.5645\n",
       "1972-08-01     70.8370   69.0429   67.6467   65.0100\n",
       "...                ...       ...       ...       ...\n",
       "2017-04-01    107.4288  105.2245  113.4661  109.4666\n",
       "2017-05-01    101.9209  107.4288  105.2245  113.4661\n",
       "2017-06-01    104.2022  101.9209  107.4288  105.2245\n",
       "2017-07-01    102.5861  104.2022  101.9209  107.4288\n",
       "2017-08-01    114.0613  102.5861  104.2022  101.9209\n",
       "\n",
       "[545 rows x 4 columns]"
      ]
     },
     "execution_count": 6,
     "metadata": {},
     "output_type": "execute_result"
    }
   ],
   "source": [
    "#Start date and end_date\n",
    "from datetime import date, timedelta\n",
    "import pandas as pd\n",
    "start_date = pd.to_datetime(\"1972-01-01\")\n",
    "end_date = pd.to_datetime(\"2017-02-04\") - timedelta(days=1) #Excluding last\n",
    "\n",
    "#List of all dates\n",
    "all_date = pd.date_range(start_date, end_date, freq='d')\n",
    "all_date\n",
    "dataset"
   ]
  },
  {
   "cell_type": "code",
   "execution_count": 7,
   "id": "45c97fcb",
   "metadata": {},
   "outputs": [
    {
     "data": {
      "text/plain": [
       "545"
      ]
     },
     "execution_count": 7,
     "metadata": {},
     "output_type": "execute_result"
    }
   ],
   "source": [
    "len(dataset)"
   ]
  },
  {
   "cell_type": "code",
   "execution_count": 8,
   "id": "308d80f1",
   "metadata": {},
   "outputs": [
    {
     "data": {
      "text/html": [
       "<div>\n",
       "<style scoped>\n",
       "    .dataframe tbody tr th:only-of-type {\n",
       "        vertical-align: middle;\n",
       "    }\n",
       "\n",
       "    .dataframe tbody tr th {\n",
       "        vertical-align: top;\n",
       "    }\n",
       "\n",
       "    .dataframe thead th {\n",
       "        text-align: right;\n",
       "    }\n",
       "</style>\n",
       "<table border=\"1\" class=\"dataframe\">\n",
       "  <thead>\n",
       "    <tr style=\"text-align: right;\">\n",
       "      <th></th>\n",
       "      <th>production</th>\n",
       "      <th>lag_1</th>\n",
       "      <th>lag_2</th>\n",
       "      <th>lag_3</th>\n",
       "    </tr>\n",
       "    <tr>\n",
       "      <th>date</th>\n",
       "      <th></th>\n",
       "      <th></th>\n",
       "      <th></th>\n",
       "      <th></th>\n",
       "    </tr>\n",
       "  </thead>\n",
       "  <tbody>\n",
       "    <tr>\n",
       "      <th>1972-04-01</th>\n",
       "      <td>64.5645</td>\n",
       "      <td>66.0229</td>\n",
       "      <td>71.8200</td>\n",
       "      <td>85.6945</td>\n",
       "    </tr>\n",
       "    <tr>\n",
       "      <th>1972-05-01</th>\n",
       "      <td>65.0100</td>\n",
       "      <td>64.5645</td>\n",
       "      <td>66.0229</td>\n",
       "      <td>71.8200</td>\n",
       "    </tr>\n",
       "    <tr>\n",
       "      <th>1972-06-01</th>\n",
       "      <td>67.6467</td>\n",
       "      <td>65.0100</td>\n",
       "      <td>64.5645</td>\n",
       "      <td>66.0229</td>\n",
       "    </tr>\n",
       "    <tr>\n",
       "      <th>1972-07-01</th>\n",
       "      <td>69.0429</td>\n",
       "      <td>67.6467</td>\n",
       "      <td>65.0100</td>\n",
       "      <td>64.5645</td>\n",
       "    </tr>\n",
       "    <tr>\n",
       "      <th>1972-08-01</th>\n",
       "      <td>70.8370</td>\n",
       "      <td>69.0429</td>\n",
       "      <td>67.6467</td>\n",
       "      <td>65.0100</td>\n",
       "    </tr>\n",
       "    <tr>\n",
       "      <th>...</th>\n",
       "      <td>...</td>\n",
       "      <td>...</td>\n",
       "      <td>...</td>\n",
       "      <td>...</td>\n",
       "    </tr>\n",
       "    <tr>\n",
       "      <th>2017-04-01</th>\n",
       "      <td>107.4288</td>\n",
       "      <td>105.2245</td>\n",
       "      <td>113.4661</td>\n",
       "      <td>109.4666</td>\n",
       "    </tr>\n",
       "    <tr>\n",
       "      <th>2017-05-01</th>\n",
       "      <td>101.9209</td>\n",
       "      <td>107.4288</td>\n",
       "      <td>105.2245</td>\n",
       "      <td>113.4661</td>\n",
       "    </tr>\n",
       "    <tr>\n",
       "      <th>2017-06-01</th>\n",
       "      <td>104.2022</td>\n",
       "      <td>101.9209</td>\n",
       "      <td>107.4288</td>\n",
       "      <td>105.2245</td>\n",
       "    </tr>\n",
       "    <tr>\n",
       "      <th>2017-07-01</th>\n",
       "      <td>102.5861</td>\n",
       "      <td>104.2022</td>\n",
       "      <td>101.9209</td>\n",
       "      <td>107.4288</td>\n",
       "    </tr>\n",
       "    <tr>\n",
       "      <th>2017-08-01</th>\n",
       "      <td>114.0613</td>\n",
       "      <td>102.5861</td>\n",
       "      <td>104.2022</td>\n",
       "      <td>101.9209</td>\n",
       "    </tr>\n",
       "  </tbody>\n",
       "</table>\n",
       "<p>545 rows × 4 columns</p>\n",
       "</div>"
      ],
      "text/plain": [
       "            production     lag_1     lag_2     lag_3\n",
       "date                                                \n",
       "1972-04-01     64.5645   66.0229   71.8200   85.6945\n",
       "1972-05-01     65.0100   64.5645   66.0229   71.8200\n",
       "1972-06-01     67.6467   65.0100   64.5645   66.0229\n",
       "1972-07-01     69.0429   67.6467   65.0100   64.5645\n",
       "1972-08-01     70.8370   69.0429   67.6467   65.0100\n",
       "...                ...       ...       ...       ...\n",
       "2017-04-01    107.4288  105.2245  113.4661  109.4666\n",
       "2017-05-01    101.9209  107.4288  105.2245  113.4661\n",
       "2017-06-01    104.2022  101.9209  107.4288  105.2245\n",
       "2017-07-01    102.5861  104.2022  101.9209  107.4288\n",
       "2017-08-01    114.0613  102.5861  104.2022  101.9209\n",
       "\n",
       "[545 rows x 4 columns]"
      ]
     },
     "execution_count": 8,
     "metadata": {},
     "output_type": "execute_result"
    }
   ],
   "source": [
    "dataset"
   ]
  },
  {
   "cell_type": "code",
   "execution_count": 9,
   "id": "c3854ac6",
   "metadata": {},
   "outputs": [],
   "source": [
    "from Descriptive import Descriptive"
   ]
  },
  {
   "cell_type": "code",
   "execution_count": 10,
   "id": "18f56704",
   "metadata": {},
   "outputs": [],
   "source": [
    "obj=Descriptive()"
   ]
  },
  {
   "cell_type": "code",
   "execution_count": 11,
   "id": "8dc6fbde",
   "metadata": {},
   "outputs": [
    {
     "name": "stdout",
     "output_type": "stream",
     "text": [
      "<class 'pandas.core.frame.DataFrame'>\n",
      "DatetimeIndex: 545 entries, 1972-04-01 to 2017-08-01\n",
      "Data columns (total 4 columns):\n",
      "production    545 non-null float64\n",
      "lag_1         545 non-null float64\n",
      "lag_2         545 non-null float64\n",
      "lag_3         545 non-null float64\n",
      "dtypes: float64(4)\n",
      "memory usage: 21.3 KB\n"
     ]
    }
   ],
   "source": [
    "dataset.info()"
   ]
  },
  {
   "cell_type": "code",
   "execution_count": 12,
   "id": "250715f1",
   "metadata": {},
   "outputs": [
    {
     "name": "stdout",
     "output_type": "stream",
     "text": [
      "The Quantitative Data: ['production', 'lag_1', 'lag_2', 'lag_3']\n",
      "The Qualtitative Data []\n"
     ]
    }
   ],
   "source": [
    "\n",
    "quan,qual=obj.segreQuanQual(dataset)"
   ]
  },
  {
   "cell_type": "code",
   "execution_count": 13,
   "id": "af164769",
   "metadata": {},
   "outputs": [],
   "source": [
    "des_data=obj.descriptive_Analysis(dataset,quan)"
   ]
  },
  {
   "cell_type": "code",
   "execution_count": 14,
   "id": "51326b77",
   "metadata": {},
   "outputs": [
    {
     "data": {
      "text/html": [
       "<div>\n",
       "<style scoped>\n",
       "    .dataframe tbody tr th:only-of-type {\n",
       "        vertical-align: middle;\n",
       "    }\n",
       "\n",
       "    .dataframe tbody tr th {\n",
       "        vertical-align: top;\n",
       "    }\n",
       "\n",
       "    .dataframe thead th {\n",
       "        text-align: right;\n",
       "    }\n",
       "</style>\n",
       "<table border=\"1\" class=\"dataframe\">\n",
       "  <thead>\n",
       "    <tr style=\"text-align: right;\">\n",
       "      <th></th>\n",
       "      <th>production</th>\n",
       "      <th>lag_1</th>\n",
       "      <th>lag_2</th>\n",
       "      <th>lag_3</th>\n",
       "    </tr>\n",
       "  </thead>\n",
       "  <tbody>\n",
       "    <tr>\n",
       "      <th>Null_count</th>\n",
       "      <td>0</td>\n",
       "      <td>0</td>\n",
       "      <td>0</td>\n",
       "      <td>0</td>\n",
       "    </tr>\n",
       "    <tr>\n",
       "      <th>NonNull_count</th>\n",
       "      <td>545</td>\n",
       "      <td>545</td>\n",
       "      <td>545</td>\n",
       "      <td>545</td>\n",
       "    </tr>\n",
       "    <tr>\n",
       "      <th>Total_Count</th>\n",
       "      <td>545</td>\n",
       "      <td>545</td>\n",
       "      <td>545</td>\n",
       "      <td>545</td>\n",
       "    </tr>\n",
       "    <tr>\n",
       "      <th>Mean</th>\n",
       "      <td>100.806</td>\n",
       "      <td>100.718</td>\n",
       "      <td>100.662</td>\n",
       "      <td>100.628</td>\n",
       "    </tr>\n",
       "    <tr>\n",
       "      <th>Median</th>\n",
       "      <td>102.317</td>\n",
       "      <td>102.284</td>\n",
       "      <td>102.273</td>\n",
       "      <td>102.204</td>\n",
       "    </tr>\n",
       "    <tr>\n",
       "      <th>Mode</th>\n",
       "      <td>50.6689</td>\n",
       "      <td>50.6689</td>\n",
       "      <td>50.6689</td>\n",
       "      <td>50.6689</td>\n",
       "    </tr>\n",
       "    <tr>\n",
       "      <th>Std</th>\n",
       "      <td>17.9872</td>\n",
       "      <td>18.0397</td>\n",
       "      <td>18.082</td>\n",
       "      <td>18.0927</td>\n",
       "    </tr>\n",
       "    <tr>\n",
       "      <th>Min</th>\n",
       "      <td>50.6689</td>\n",
       "      <td>50.6689</td>\n",
       "      <td>50.6689</td>\n",
       "      <td>50.6689</td>\n",
       "    </tr>\n",
       "    <tr>\n",
       "      <th>Q1:25%</th>\n",
       "      <td>88.0949</td>\n",
       "      <td>87.9578</td>\n",
       "      <td>87.9183</td>\n",
       "      <td>87.695</td>\n",
       "    </tr>\n",
       "    <tr>\n",
       "      <th>Q2:50%</th>\n",
       "      <td>102.317</td>\n",
       "      <td>102.284</td>\n",
       "      <td>102.273</td>\n",
       "      <td>102.204</td>\n",
       "    </tr>\n",
       "    <tr>\n",
       "      <th>Q3:75%</th>\n",
       "      <td>114.697</td>\n",
       "      <td>114.697</td>\n",
       "      <td>114.697</td>\n",
       "      <td>114.697</td>\n",
       "    </tr>\n",
       "    <tr>\n",
       "      <th>Q4:100%</th>\n",
       "      <td>139.915</td>\n",
       "      <td>139.915</td>\n",
       "      <td>139.915</td>\n",
       "      <td>139.915</td>\n",
       "    </tr>\n",
       "    <tr>\n",
       "      <th>IQR</th>\n",
       "      <td>26.6018</td>\n",
       "      <td>26.7389</td>\n",
       "      <td>26.7784</td>\n",
       "      <td>27.0017</td>\n",
       "    </tr>\n",
       "    <tr>\n",
       "      <th>1.5Rule</th>\n",
       "      <td>39.9027</td>\n",
       "      <td>40.1084</td>\n",
       "      <td>40.1676</td>\n",
       "      <td>40.5026</td>\n",
       "    </tr>\n",
       "    <tr>\n",
       "      <th>Lesser</th>\n",
       "      <td>48.1922</td>\n",
       "      <td>47.8495</td>\n",
       "      <td>47.7507</td>\n",
       "      <td>47.1924</td>\n",
       "    </tr>\n",
       "    <tr>\n",
       "      <th>Greater</th>\n",
       "      <td>154.599</td>\n",
       "      <td>154.805</td>\n",
       "      <td>154.864</td>\n",
       "      <td>155.199</td>\n",
       "    </tr>\n",
       "  </tbody>\n",
       "</table>\n",
       "</div>"
      ],
      "text/plain": [
       "              production    lag_1    lag_2    lag_3\n",
       "Null_count             0        0        0        0\n",
       "NonNull_count        545      545      545      545\n",
       "Total_Count          545      545      545      545\n",
       "Mean             100.806  100.718  100.662  100.628\n",
       "Median           102.317  102.284  102.273  102.204\n",
       "Mode             50.6689  50.6689  50.6689  50.6689\n",
       "Std              17.9872  18.0397   18.082  18.0927\n",
       "Min              50.6689  50.6689  50.6689  50.6689\n",
       "Q1:25%           88.0949  87.9578  87.9183   87.695\n",
       "Q2:50%           102.317  102.284  102.273  102.204\n",
       "Q3:75%           114.697  114.697  114.697  114.697\n",
       "Q4:100%          139.915  139.915  139.915  139.915\n",
       "IQR              26.6018  26.7389  26.7784  27.0017\n",
       "1.5Rule          39.9027  40.1084  40.1676  40.5026\n",
       "Lesser           48.1922  47.8495  47.7507  47.1924\n",
       "Greater          154.599  154.805  154.864  155.199"
      ]
     },
     "execution_count": 14,
     "metadata": {},
     "output_type": "execute_result"
    }
   ],
   "source": [
    "des_data"
   ]
  },
  {
   "cell_type": "code",
   "execution_count": 15,
   "id": "3218b8c9",
   "metadata": {},
   "outputs": [
    {
     "data": {
      "text/plain": [
       "Null_count             0\n",
       "NonNull_count        545\n",
       "Total_Count          545\n",
       "Mean             100.806\n",
       "Median           102.317\n",
       "Mode             50.6689\n",
       "Std              17.9872\n",
       "Min              50.6689\n",
       "Q1:25%           88.0949\n",
       "Q2:50%           102.317\n",
       "Q3:75%           114.697\n",
       "Q4:100%          139.915\n",
       "IQR              26.6018\n",
       "1.5Rule          39.9027\n",
       "Lesser           48.1922\n",
       "Greater          154.599\n",
       "Name: production, dtype: object"
      ]
     },
     "execution_count": 15,
     "metadata": {},
     "output_type": "execute_result"
    }
   ],
   "source": [
    "des_data['production']"
   ]
  },
  {
   "cell_type": "code",
   "execution_count": 16,
   "id": "b18479bb",
   "metadata": {},
   "outputs": [],
   "source": [
    "import numpy as np"
   ]
  },
  {
   "cell_type": "code",
   "execution_count": 17,
   "id": "a8be5aae",
   "metadata": {},
   "outputs": [
    {
     "data": {
      "text/plain": [
       "136.28495199999998"
      ]
     },
     "execution_count": 17,
     "metadata": {},
     "output_type": "execute_result"
    }
   ],
   "source": [
    "np.percentile(dataset['production'],99)"
   ]
  },
  {
   "cell_type": "code",
   "execution_count": 18,
   "id": "b95aee4a",
   "metadata": {},
   "outputs": [],
   "source": [
    "def get_pdf_probability(dataset,startrange,endrange):\n",
    "    from matplotlib import pyplot\n",
    "    from scipy.stats import norm\n",
    "    import seaborn as sns\n",
    "    ax = sns.distplot(dataset,kde=True,kde_kws={'color':'blue'},color='Green')\n",
    "    pyplot.axvline(startrange,color='Red')\n",
    "    pyplot.axvline(endrange,color='Red')\n",
    "    # generate a sample\n",
    "    sample = dataset\n",
    "    # calculate parameters\n",
    "    sample_mean =sample.mean()\n",
    "    sample_std = sample.std()\n",
    "    print('Mean=%.3f, Standard Deviation=%.3f' % (sample_mean, sample_std))\n",
    "    # define the distribution\n",
    "    dist = norm(sample_mean, sample_std)\n",
    "    \n",
    "    # sample probabilities for a range of outcomes\n",
    "    values = [value for value in range(startrange, endrange)]\n",
    "    probabilities = [dist.pdf(value) for value in values]    \n",
    "    prob=sum(probabilities)\n",
    "    print(\"The area between range({},{}):{}\".format(startrange,endrange,sum(probabilities)))\n",
    "    return prob"
   ]
  },
  {
   "cell_type": "code",
   "execution_count": 19,
   "id": "f6aef05b",
   "metadata": {},
   "outputs": [
    {
     "name": "stdout",
     "output_type": "stream",
     "text": [
      "Mean=100.806, Standard Deviation=17.987\n",
      "The area between range(80,140):0.8662096903723847\n"
     ]
    },
    {
     "name": "stderr",
     "output_type": "stream",
     "text": [
      "C:\\Users\\MANIKA\\Anaconda3\\envs\\aiml\\lib\\site-packages\\seaborn\\distributions.py:2551: FutureWarning: `distplot` is a deprecated function and will be removed in a future version. Please adapt your code to use either `displot` (a figure-level function with similar flexibility) or `histplot` (an axes-level function for histograms).\n",
      "  warnings.warn(msg, FutureWarning)\n"
     ]
    },
    {
     "data": {
      "text/plain": [
       "0.8662096903723847"
      ]
     },
     "execution_count": 19,
     "metadata": {},
     "output_type": "execute_result"
    },
    {
     "data": {
      "image/png": "[encoded data removed]",
      "text/plain": [
       "<Figure size 640x480 with 1 Axes>"
      ]
     },
     "metadata": {},
     "output_type": "display_data"
    }
   ],
   "source": [
    "get_pdf_probability(dataset[\"production\"],80,140)"
   ]
  },
  {
   "cell_type": "code",
   "execution_count": 20,
   "id": "c128b784",
   "metadata": {},
   "outputs": [],
   "source": [
    "def stdNBgraph(dataset):\n",
    "        # Coverted to standard Normal Distribution\n",
    "    import seaborn as sns\n",
    "    mean=dataset.mean()\n",
    "    std=dataset.std()\n",
    "\n",
    "    values=[i for i in dataset]\n",
    "\n",
    "    z_score=[((j-mean)/std) for j in values]\n",
    "\n",
    "    sns.distplot(z_score,kde=True)\n",
    "\n",
    "    sum(z_score)/len(z_score)\n",
    "    #z_score.std()\n"
   ]
  },
  {
   "cell_type": "code",
   "execution_count": 21,
   "id": "73fae1f8",
   "metadata": {},
   "outputs": [
    {
     "name": "stderr",
     "output_type": "stream",
     "text": [
      "C:\\Users\\MANIKA\\Anaconda3\\envs\\aiml\\lib\\site-packages\\seaborn\\distributions.py:2551: FutureWarning: `distplot` is a deprecated function and will be removed in a future version. Please adapt your code to use either `displot` (a figure-level function with similar flexibility) or `histplot` (an axes-level function for histograms).\n",
      "  warnings.warn(msg, FutureWarning)\n"
     ]
    },
    {
     "data": {
      "image/png": "[encoded data removed]",
      "text/plain": [
       "<Figure size 640x480 with 1 Axes>"
      ]
     },
     "metadata": {},
     "output_type": "display_data"
    }
   ],
   "source": [
    "stdNBgraph(dataset[\"production\"])"
   ]
  },
  {
   "cell_type": "code",
   "execution_count": 22,
   "id": "f7df9977",
   "metadata": {},
   "outputs": [],
   "source": [
    "def freqTable(columnName,dataset):\n",
    "    import pandas as pd\n",
    "    frq=pd.DataFrame()\n",
    "    frq[\"Unique_Values\"]=dataset[columnName].value_counts().index\n",
    "    frq[\"Frequency\"]=dataset[columnName].value_counts().values\n",
    "    frq[\"Relative_Fre\"]=dataset[columnName].value_counts().values/len(dataset[columnName])*100\n",
    "    frq[\"Cumulative\"]=frq[\"Relative_Fre\"].cumsum()\n",
    "    return frq"
   ]
  },
  {
   "cell_type": "code",
   "execution_count": 23,
   "id": "35431ce5",
   "metadata": {},
   "outputs": [
    {
     "data": {
      "text/html": [
       "<div>\n",
       "<style scoped>\n",
       "    .dataframe tbody tr th:only-of-type {\n",
       "        vertical-align: middle;\n",
       "    }\n",
       "\n",
       "    .dataframe tbody tr th {\n",
       "        vertical-align: top;\n",
       "    }\n",
       "\n",
       "    .dataframe thead th {\n",
       "        text-align: right;\n",
       "    }\n",
       "</style>\n",
       "<table border=\"1\" class=\"dataframe\">\n",
       "  <thead>\n",
       "    <tr style=\"text-align: right;\">\n",
       "      <th></th>\n",
       "      <th>Unique_Values</th>\n",
       "      <th>Frequency</th>\n",
       "      <th>Relative_Fre</th>\n",
       "      <th>Cumulative</th>\n",
       "    </tr>\n",
       "  </thead>\n",
       "  <tbody>\n",
       "    <tr>\n",
       "      <th>0</th>\n",
       "      <td>106.2725</td>\n",
       "      <td>1</td>\n",
       "      <td>0.183486</td>\n",
       "      <td>0.183486</td>\n",
       "    </tr>\n",
       "    <tr>\n",
       "      <th>1</th>\n",
       "      <td>69.6110</td>\n",
       "      <td>1</td>\n",
       "      <td>0.183486</td>\n",
       "      <td>0.366972</td>\n",
       "    </tr>\n",
       "    <tr>\n",
       "      <th>2</th>\n",
       "      <td>108.6304</td>\n",
       "      <td>1</td>\n",
       "      <td>0.183486</td>\n",
       "      <td>0.550459</td>\n",
       "    </tr>\n",
       "    <tr>\n",
       "      <th>3</th>\n",
       "      <td>74.6196</td>\n",
       "      <td>1</td>\n",
       "      <td>0.183486</td>\n",
       "      <td>0.733945</td>\n",
       "    </tr>\n",
       "    <tr>\n",
       "      <th>4</th>\n",
       "      <td>77.1113</td>\n",
       "      <td>1</td>\n",
       "      <td>0.183486</td>\n",
       "      <td>0.917431</td>\n",
       "    </tr>\n",
       "    <tr>\n",
       "      <th>...</th>\n",
       "      <td>...</td>\n",
       "      <td>...</td>\n",
       "      <td>...</td>\n",
       "      <td>...</td>\n",
       "    </tr>\n",
       "    <tr>\n",
       "      <th>540</th>\n",
       "      <td>98.0799</td>\n",
       "      <td>1</td>\n",
       "      <td>0.183486</td>\n",
       "      <td>99.266055</td>\n",
       "    </tr>\n",
       "    <tr>\n",
       "      <th>541</th>\n",
       "      <td>110.2132</td>\n",
       "      <td>1</td>\n",
       "      <td>0.183486</td>\n",
       "      <td>99.449541</td>\n",
       "    </tr>\n",
       "    <tr>\n",
       "      <th>542</th>\n",
       "      <td>124.5176</td>\n",
       "      <td>1</td>\n",
       "      <td>0.183486</td>\n",
       "      <td>99.633028</td>\n",
       "    </tr>\n",
       "    <tr>\n",
       "      <th>543</th>\n",
       "      <td>73.4034</td>\n",
       "      <td>1</td>\n",
       "      <td>0.183486</td>\n",
       "      <td>99.816514</td>\n",
       "    </tr>\n",
       "    <tr>\n",
       "      <th>544</th>\n",
       "      <td>88.4239</td>\n",
       "      <td>1</td>\n",
       "      <td>0.183486</td>\n",
       "      <td>100.000000</td>\n",
       "    </tr>\n",
       "  </tbody>\n",
       "</table>\n",
       "<p>545 rows × 4 columns</p>\n",
       "</div>"
      ],
      "text/plain": [
       "     Unique_Values  Frequency  Relative_Fre  Cumulative\n",
       "0         106.2725          1      0.183486    0.183486\n",
       "1          69.6110          1      0.183486    0.366972\n",
       "2         108.6304          1      0.183486    0.550459\n",
       "3          74.6196          1      0.183486    0.733945\n",
       "4          77.1113          1      0.183486    0.917431\n",
       "..             ...        ...           ...         ...\n",
       "540        98.0799          1      0.183486   99.266055\n",
       "541       110.2132          1      0.183486   99.449541\n",
       "542       124.5176          1      0.183486   99.633028\n",
       "543        73.4034          1      0.183486   99.816514\n",
       "544        88.4239          1      0.183486  100.000000\n",
       "\n",
       "[545 rows x 4 columns]"
      ]
     },
     "execution_count": 23,
     "metadata": {},
     "output_type": "execute_result"
    }
   ],
   "source": [
    "\n",
    "fh=freqTable(\"production\",dataset)\n",
    "fh"
   ]
  },
  {
   "cell_type": "code",
   "execution_count": 24,
   "id": "5d999a5c",
   "metadata": {},
   "outputs": [
    {
     "data": {
      "text/html": [
       "<div>\n",
       "<style scoped>\n",
       "    .dataframe tbody tr th:only-of-type {\n",
       "        vertical-align: middle;\n",
       "    }\n",
       "\n",
       "    .dataframe tbody tr th {\n",
       "        vertical-align: top;\n",
       "    }\n",
       "\n",
       "    .dataframe thead th {\n",
       "        text-align: right;\n",
       "    }\n",
       "</style>\n",
       "<table border=\"1\" class=\"dataframe\">\n",
       "  <thead>\n",
       "    <tr style=\"text-align: right;\">\n",
       "      <th></th>\n",
       "      <th>Unique_Values</th>\n",
       "      <th>Frequency</th>\n",
       "      <th>Relative_Fre</th>\n",
       "      <th>Cumulative</th>\n",
       "    </tr>\n",
       "  </thead>\n",
       "  <tbody>\n",
       "    <tr>\n",
       "      <th>0</th>\n",
       "      <td>106.2725</td>\n",
       "      <td>1</td>\n",
       "      <td>0.183486</td>\n",
       "      <td>0.183486</td>\n",
       "    </tr>\n",
       "    <tr>\n",
       "      <th>366</th>\n",
       "      <td>89.4914</td>\n",
       "      <td>1</td>\n",
       "      <td>0.183486</td>\n",
       "      <td>67.339450</td>\n",
       "    </tr>\n",
       "    <tr>\n",
       "      <th>360</th>\n",
       "      <td>124.9696</td>\n",
       "      <td>1</td>\n",
       "      <td>0.183486</td>\n",
       "      <td>66.238532</td>\n",
       "    </tr>\n",
       "    <tr>\n",
       "      <th>361</th>\n",
       "      <td>109.3191</td>\n",
       "      <td>1</td>\n",
       "      <td>0.183486</td>\n",
       "      <td>66.422018</td>\n",
       "    </tr>\n",
       "    <tr>\n",
       "      <th>362</th>\n",
       "      <td>125.9960</td>\n",
       "      <td>1</td>\n",
       "      <td>0.183486</td>\n",
       "      <td>66.605505</td>\n",
       "    </tr>\n",
       "    <tr>\n",
       "      <th>...</th>\n",
       "      <td>...</td>\n",
       "      <td>...</td>\n",
       "      <td>...</td>\n",
       "      <td>...</td>\n",
       "    </tr>\n",
       "    <tr>\n",
       "      <th>176</th>\n",
       "      <td>112.5035</td>\n",
       "      <td>1</td>\n",
       "      <td>0.183486</td>\n",
       "      <td>32.477064</td>\n",
       "    </tr>\n",
       "    <tr>\n",
       "      <th>175</th>\n",
       "      <td>116.5435</td>\n",
       "      <td>1</td>\n",
       "      <td>0.183486</td>\n",
       "      <td>32.293578</td>\n",
       "    </tr>\n",
       "    <tr>\n",
       "      <th>174</th>\n",
       "      <td>107.4288</td>\n",
       "      <td>1</td>\n",
       "      <td>0.183486</td>\n",
       "      <td>32.110092</td>\n",
       "    </tr>\n",
       "    <tr>\n",
       "      <th>173</th>\n",
       "      <td>108.0978</td>\n",
       "      <td>1</td>\n",
       "      <td>0.183486</td>\n",
       "      <td>31.926606</td>\n",
       "    </tr>\n",
       "    <tr>\n",
       "      <th>544</th>\n",
       "      <td>88.4239</td>\n",
       "      <td>1</td>\n",
       "      <td>0.183486</td>\n",
       "      <td>100.000000</td>\n",
       "    </tr>\n",
       "  </tbody>\n",
       "</table>\n",
       "<p>545 rows × 4 columns</p>\n",
       "</div>"
      ],
      "text/plain": [
       "     Unique_Values  Frequency  Relative_Fre  Cumulative\n",
       "0         106.2725          1      0.183486    0.183486\n",
       "366        89.4914          1      0.183486   67.339450\n",
       "360       124.9696          1      0.183486   66.238532\n",
       "361       109.3191          1      0.183486   66.422018\n",
       "362       125.9960          1      0.183486   66.605505\n",
       "..             ...        ...           ...         ...\n",
       "176       112.5035          1      0.183486   32.477064\n",
       "175       116.5435          1      0.183486   32.293578\n",
       "174       107.4288          1      0.183486   32.110092\n",
       "173       108.0978          1      0.183486   31.926606\n",
       "544        88.4239          1      0.183486  100.000000\n",
       "\n",
       "[545 rows x 4 columns]"
      ]
     },
     "execution_count": 24,
     "metadata": {},
     "output_type": "execute_result"
    }
   ],
   "source": [
    "fh.sort_values(by=\"Frequency\",ascending=False)"
   ]
  },
  {
   "cell_type": "code",
   "execution_count": 25,
   "id": "b0e0106a",
   "metadata": {},
   "outputs": [],
   "source": [
    "fhs=fh[fh[\"Frequency\"]==2][\"Unique_Values\"].sort_values(ascending=False)"
   ]
  },
  {
   "cell_type": "code",
   "execution_count": 26,
   "id": "870eac54",
   "metadata": {},
   "outputs": [
    {
     "data": {
      "text/plain": [
       "Series([], Name: Unique_Values, dtype: float64)"
      ]
     },
     "execution_count": 26,
     "metadata": {},
     "output_type": "execute_result"
    }
   ],
   "source": [
    "fhs"
   ]
  },
  {
   "cell_type": "code",
   "execution_count": 27,
   "id": "d8873ac2",
   "metadata": {},
   "outputs": [
    {
     "data": {
      "text/plain": [
       "0"
      ]
     },
     "execution_count": 27,
     "metadata": {},
     "output_type": "execute_result"
    }
   ],
   "source": [
    "fhs.count()"
   ]
  },
  {
   "cell_type": "code",
   "execution_count": null,
   "id": "7e5e8094",
   "metadata": {},
   "outputs": [],
   "source": []
  },
  {
   "cell_type": "code",
   "execution_count": null,
   "id": "1ef8e21a-4952-4337-a830-035381427473",
   "metadata": {},
   "outputs": [],
   "source": []
  }
 ],
 "metadata": {
  "kernelspec": {
   "display_name": "Python 3 (ipykernel)",
   "language": "python",
   "name": "python3"
  },
  "language_info": {
   "codemirror_mode": {
    "name": "ipython",
    "version": 3
   },
   "file_extension": ".py",
   "mimetype": "text/x-python",
   "name": "python",
   "nbconvert_exporter": "python",
   "pygments_lexer": "ipython3",
   "version": "3.7.6"
  }
 },
 "nbformat": 4,
 "nbformat_minor": 5
}
